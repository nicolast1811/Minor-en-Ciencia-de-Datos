{
  "cells": [
    {
      "cell_type": "markdown",
      "metadata": {
        "id": "ORRSzkTh5Qqo"
      },
      "source": [
        "##Actividad 28 de marzo\n",
        "\n",
        "Alumno: Nicolás Torres Hormazábal"
      ]
    },
    {
      "cell_type": "code",
      "execution_count": 3,
      "metadata": {
        "colab": {
          "base_uri": "https://localhost:8080/"
        },
        "id": "uldlVZ_Nzbk-",
        "outputId": "c0cd4045-c2b1-4f76-e7f4-ccfd4a83e424"
      },
      "outputs": [
        {
          "name": "stdout",
          "output_type": "stream",
          "text": [
            "[-2.229, -2.829, -3.429, -3.729, -2.529, -1.329, -3.729, -2.529, -4.329, -2.829, -1.329, -3.129, -3.129, -4.629, -0.129, -0.429, -1.329, -2.229, -0.429, -2.229, -1.329, -2.229, -3.729, -2.229, -3.129, -2.529, -2.529, -1.929, -1.929, -3.429, -3.129, -1.329, -1.929, -1.029, -2.829, -2.529, -1.029, -2.829, -4.329, -2.229, -2.529, -4.029, -4.329, -2.529, -2.229, -3.129, -2.229, -3.729, -1.629, -2.529, 3.471, 1.671, 3.171, -1.029, 1.971, -0.429, 1.371, -2.829, 2.271, -1.929, -2.529, 0.171, 0.471, 0.771, -0.729, 2.571, -0.729, -0.129, 1.071, -0.729, 0.171, 0.771, 1.371, 0.771, 1.671, 2.271, 2.871, 2.571, 0.471, -0.429, -1.029, -1.029, -0.129, 0.471, -1.329, 0.471, 2.571, 1.371, -0.729, -1.029, -1.029, 0.771, -0.129, -2.529, -0.729, -0.429, -0.429, 1.071, -2.229, -0.429, 1.371, -0.129, 3.771, 1.371, 1.971, 5.271, -2.829, 4.371, 2.571, 4.071, 1.971, 1.671, 2.871, -0.429, -0.129, 1.671, 1.971, 5.571, 5.571, 0.471, 3.171, -0.729, 5.571, 1.371, 2.571, 4.071, 1.071, 0.771, 1.671, 4.071, 4.671, 6.171, 1.671, 1.371, 0.771, 5.571, 1.371, 1.671, 0.471, 3.171, 2.571, 3.171, -0.129, 2.871, 2.571, 2.571, 1.371, 1.971, 1.071, 0.171]\n"
          ]
        }
      ],
      "source": [
        "import pandas as pd\n",
        "import numpy as np\n",
        "from sklearn import datasets\n",
        "#ITERROWS\n",
        "#Entrada\n",
        "iris = datasets.load_iris()\n",
        "X = iris.data\n",
        "y = iris.target\n",
        "data = np.column_stack((X, y))\n",
        "df = pd.DataFrame(data)\n",
        "df.columns = ['Sepal_Length','Sepal_Width','Petal_Length','Petal_Width','Class']\n",
        "df_sepal_length = pd.DataFrame(df['Sepal_Length'])\n",
        "sepal_length_mean = round(df['Sepal_Length'].mean(),3)\n",
        "\n",
        "#Procesamiento\n",
        "resultado = []\n",
        "for index, row in df_sepal_length.iterrows():\n",
        "  resultado_add = (row['Sepal_Length'] - sepal_length_mean)*3\n",
        "  resultado.append(round((resultado_add), 3))\n",
        "\n",
        "#Salida\n",
        "print(resultado)"
      ]
    },
    {
      "cell_type": "code",
      "execution_count": 2,
      "metadata": {
        "colab": {
          "base_uri": "https://localhost:8080/"
        },
        "id": "AhvZAGnVzcLH",
        "outputId": "9bece48f-47ad-44dd-8d2c-02a0378f3c0a"
      },
      "outputs": [
        {
          "name": "stdout",
          "output_type": "stream",
          "text": [
            "[-2.229, -2.829, -3.429, -3.729, -2.529, -1.329, -3.729, -2.529, -4.329, -2.829, -1.329, -3.129, -3.129, -4.629, -0.129, -0.429, -1.329, -2.229, -0.429, -2.229, -1.329, -2.229, -3.729, -2.229, -3.129, -2.529, -2.529, -1.929, -1.929, -3.429, -3.129, -1.329, -1.929, -1.029, -2.829, -2.529, -1.029, -2.829, -4.329, -2.229, -2.529, -4.029, -4.329, -2.529, -2.229, -3.129, -2.229, -3.729, -1.629, -2.529, 3.471, 1.671, 3.171, -1.029, 1.971, -0.429, 1.371, -2.829, 2.271, -1.929, -2.529, 0.171, 0.471, 0.771, -0.729, 2.571, -0.729, -0.129, 1.071, -0.729, 0.171, 0.771, 1.371, 0.771, 1.671, 2.271, 2.871, 2.571, 0.471, -0.429, -1.029, -1.029, -0.129, 0.471, -1.329, 0.471, 2.571, 1.371, -0.729, -1.029, -1.029, 0.771, -0.129, -2.529, -0.729, -0.429, -0.429, 1.071, -2.229, -0.429, 1.371, -0.129, 3.771, 1.371, 1.971, 5.271, -2.829, 4.371, 2.571, 4.071, 1.971, 1.671, 2.871, -0.429, -0.129, 1.671, 1.971, 5.571, 5.571, 0.471, 3.171, -0.729, 5.571, 1.371, 2.571, 4.071, 1.071, 0.771, 1.671, 4.071, 4.671, 6.171, 1.671, 1.371, 0.771, 5.571, 1.371, 1.671, 0.471, 3.171, 2.571, 3.171, -0.129, 2.871, 2.571, 2.571, 1.371, 1.971, 1.071, 0.171]\n"
          ]
        }
      ],
      "source": [
        "import pandas as pd\n",
        "import numpy as np\n",
        "from sklearn import datasets\n",
        "#APPLY\n",
        "#Entrada\n",
        "iris = datasets.load_iris()\n",
        "X = iris.data\n",
        "y = iris.target\n",
        "data = np.column_stack((X, y))\n",
        "df = pd.DataFrame(data)\n",
        "df.columns = ['Sepal_Length','Sepal_Width','Petal_Length','Petal_Width','Class']\n",
        "df_sepal_length = pd.DataFrame(df['Sepal_Length'])\n",
        "sepal_length_mean = round(df['Sepal_Length'].mean(),3)\n",
        "\n",
        "#Procesamiento\n",
        "rows = df_sepal_length.apply(lambda row: (row[0] - sepal_length_mean)*3, axis = 1)\n",
        "rows = round(rows,3)\n",
        "\n",
        "#Salida\n",
        "print(rows.to_list())"
      ]
    }
  ],
  "metadata": {
    "colab": {
      "provenance": []
    },
    "kernelspec": {
      "display_name": "myenv",
      "language": "python",
      "name": "python3"
    },
    "language_info": {
      "codemirror_mode": {
        "name": "ipython",
        "version": 3
      },
      "file_extension": ".py",
      "mimetype": "text/x-python",
      "name": "python",
      "nbconvert_exporter": "python",
      "pygments_lexer": "ipython3",
      "version": "3.10.10"
    },
    "orig_nbformat": 4
  },
  "nbformat": 4,
  "nbformat_minor": 0
}
