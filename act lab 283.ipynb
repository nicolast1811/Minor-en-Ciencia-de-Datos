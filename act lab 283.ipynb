{
 "cells": [
  {
   "cell_type": "code",
   "execution_count": 3,
   "metadata": {},
   "outputs": [
    {
     "name": "stdout",
     "output_type": "stream",
     "text": [
      "[-2.229, -2.829, -3.429, -3.729, -2.529, -1.329, -3.729, -2.529, -4.329, -2.829, -1.329, -3.129, -3.129, -4.629, -0.129, -0.429, -1.329, -2.229, -0.429, -2.229, -1.329, -2.229, -3.729, -2.229, -3.129, -2.529, -2.529, -1.929, -1.929, -3.429, -3.129, -1.329, -1.929, -1.029, -2.829, -2.529, -1.029, -2.829, -4.329, -2.229, -2.529, -4.029, -4.329, -2.529, -2.229, -3.129, -2.229, -3.729, -1.629, -2.529, 3.471, 1.671, 3.171, -1.029, 1.971, -0.429, 1.371, -2.829, 2.271, -1.929, -2.529, 0.171, 0.471, 0.771, -0.729, 2.571, -0.729, -0.129, 1.071, -0.729, 0.171, 0.771, 1.371, 0.771, 1.671, 2.271, 2.871, 2.571, 0.471, -0.429, -1.029, -1.029, -0.129, 0.471, -1.329, 0.471, 2.571, 1.371, -0.729, -1.029, -1.029, 0.771, -0.129, -2.529, -0.729, -0.429, -0.429, 1.071, -2.229, -0.429, 1.371, -0.129, 3.771, 1.371, 1.971, 5.271, -2.829, 4.371, 2.571, 4.071, 1.971, 1.671, 2.871, -0.429, -0.129, 1.671, 1.971, 5.571, 5.571, 0.471, 3.171, -0.729, 5.571, 1.371, 2.571, 4.071, 1.071, 0.771, 1.671, 4.071, 4.671, 6.171, 1.671, 1.371, 0.771, 5.571, 1.371, 1.671, 0.471, 3.171, 2.571, 3.171, -0.129, 2.871, 2.571, 2.571, 1.371, 1.971, 1.071, 0.171]\n"
     ]
    }
   ],
   "source": [
    "import pandas as pd\n",
    "import numpy as np\n",
    "from sklearn import datasets\n",
    "\n",
    "iris = datasets.load_iris()\n",
    "X = iris.data\n",
    "y = iris.target\n",
    "data = np.column_stack((X, y))\n",
    "df = pd.DataFrame(data)\n",
    "df.columns = ['Sepal_Length','Sepal_Width','Petal_Length','Petal_Width','Class']\n",
    "\n",
    "df_sepal_length = pd.DataFrame(df['Sepal_Length'])\n",
    "sepal_length_mean = round(df['Sepal_Length'].mean(),3)\n",
    "\n",
    "resultado = []\n",
    "\n",
    "for index, row in df_sepal_length.iterrows():\n",
    "  resultado_add = (row['Sepal_Length'] - sepal_length_mean)*3\n",
    "  resultado.append(round((resultado_add), 3))\n",
    "\n",
    "print(resultado)\n"
   ]
  },
  {
   "cell_type": "code",
   "execution_count": 1,
   "metadata": {},
   "outputs": [
    {
     "name": "stdout",
     "output_type": "stream",
     "text": [
      "    name  age  salary\n",
      "3  David   40   80000\n",
      "4  Emily   45   90000\n"
     ]
    }
   ],
   "source": [
    "import pandas as pd\n",
    "\n",
    "# create a sample DataFrame\n",
    "data = {'name': ['Alice', 'Bob', 'Charlie', 'David', 'Emily'],\n",
    "        'age': [25, 30, 35, 40, 45],\n",
    "        'salary': [50000, 60000, 70000, 80000, 90000]}\n",
    "df = pd.DataFrame(data)\n",
    "\n",
    "# filter the DataFrame using the query function\n",
    "filtered_df = df.query('age > 30 and salary > 70000')\n",
    "\n",
    "# print the filtered DataFrame\n",
    "print(filtered_df)\n"
   ]
  },
  {
   "cell_type": "code",
   "execution_count": 12,
   "metadata": {},
   "outputs": [
    {
     "name": "stdout",
     "output_type": "stream",
     "text": [
      "a\n",
      "a\n",
      "a\n",
      "a\n",
      "a\n",
      "a\n",
      "a\n",
      "a\n",
      "a\n",
      "a\n",
      "b\n",
      "b\n",
      "b\n",
      "b\n",
      "b\n",
      "b\n",
      "b\n",
      "b\n",
      "b\n",
      "b\n",
      "b\n",
      "b\n",
      "b\n",
      "b\n",
      "b\n",
      "b\n",
      "b\n",
      "b\n",
      "b\n",
      "b\n"
     ]
    }
   ],
   "source": [
    "i = 0 \n",
    "while i < 10: \n",
    "    print('a')\n",
    "    i+=1\n",
    "\n",
    "j=0\n",
    "while j < 20:\n",
    "    print('b')\n",
    "    j+=1"
   ]
  }
 ],
 "metadata": {
  "kernelspec": {
   "display_name": "myenv",
   "language": "python",
   "name": "python3"
  },
  "language_info": {
   "codemirror_mode": {
    "name": "ipython",
    "version": 3
   },
   "file_extension": ".py",
   "mimetype": "text/x-python",
   "name": "python",
   "nbconvert_exporter": "python",
   "pygments_lexer": "ipython3",
   "version": "3.10.10"
  },
  "orig_nbformat": 4,
  "vscode": {
   "interpreter": {
    "hash": "5bf59006c34ddf4299b702fc6c7060e160a22603d0fe9bcea61f840ffaa68841"
   }
  }
 },
 "nbformat": 4,
 "nbformat_minor": 2
}
